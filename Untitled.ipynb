{
 "cells": [
  {
   "cell_type": "code",
   "execution_count": null,
   "metadata": {
    "collapsed": true
   },
   "outputs": [],
   "source": [
    "def merge(current, include, exclude):\n",
    "\tdc = {}\n",
    "\tdi = {}\n",
    "\tfor i, c in enumerate(current):\n",
    "\t\tdc[c] = i\n",
    "\tfor i, ic in enumerate(include):\n",
    "\t\tdi[ic] = i\n",
    "\tcurrent = sorted(current)\n",
    "\tnc = current[:]\n",
    "\tinclude = sorted(include)\n",
    "\texclude = sorted(exclude)\n",
    "\ti = k = 0\n",
    "\tresult = []\n",
    "\twhile i < len(current) and k < len(exclude):\n",
    "\t\tif current[i] > exclude[k]:\n",
    "\t\t\tk += 1\n",
    "\t\telif current[i] == exclude[k]:\n",
    "\t\t\ti += 1\n",
    "\t\t\tk += 1\n",
    "\t\telse:\n",
    "\t\t\tresult.append(current[i])\n",
    "\t\t\ti += 1\n",
    "\ti = k = 0\n",
    "\twhile i < len(include) and k < len(exclude):\n",
    "\t\tif include[i] > exclude[k]:\n",
    "\t\t\tk += 1\n",
    "\t\telif include[i] == exclude[k]:\n",
    "\t\t\ti += 1\n",
    "\t\t\tk += 1\n",
    "\t\telse:\n",
    "\t\t\tif include[i] not in result:\n"
   ]
  }
 ],
 "metadata": {
  "kernelspec": {
   "display_name": "Python(Fintech)",
   "language": "python",
   "name": "fintech"
  },
  "language_info": {
   "codemirror_mode": {
    "name": "ipython",
    "version": 3
   },
   "file_extension": ".py",
   "mimetype": "text/x-python",
   "name": "python",
   "nbconvert_exporter": "python",
   "pygments_lexer": "ipython3",
   "version": "3.6.2"
  }
 },
 "nbformat": 4,
 "nbformat_minor": 2
}
